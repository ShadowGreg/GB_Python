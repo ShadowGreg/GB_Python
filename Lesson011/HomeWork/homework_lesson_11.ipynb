{
  "nbformat": 4,
  "nbformat_minor": 0,
  "metadata": {
    "colab": {
      "provenance": []
    },
    "kernelspec": {
      "name": "python3",
      "display_name": "Python 3"
    },
    "language_info": {
      "name": "python"
    }
  },
  "cells": [
    {
      "cell_type": "code",
      "execution_count": null,
      "metadata": {
        "id": "GIBgZXXyJgUR"
      },
      "outputs": [],
      "source": [
        "Урок 11. Jupyter Notebook и несколько слов об аналитике\n",
        "f(x) =0.6x^3+5.5x^2+10x -5\n",
        "\n",
        "V Определить корни\n",
        "\n",
        "Найти интервалы, на которых функция возрастает\n",
        "\n",
        "Найти интервалы, на которых функция убывает\n",
        "\n",
        "V Построить график\n",
        "\n",
        "V Вычислить вершину\n",
        "\n",
        "V Определить промежутки, на котором f > 0\n",
        "\n",
        "V Определить промежутки, на котором f < 0"
      ]
    },
    {
      "cell_type": "markdown",
      "source": [],
      "metadata": {
        "id": "wYzmLCyxsNMD"
      }
    },
    {
      "cell_type": "code",
      "source": [
        "pip install sympy"
      ],
      "metadata": {
        "colab": {
          "base_uri": "https://localhost:8080/"
        },
        "id": "ZoTiZPjoJs8p",
        "outputId": "1ffe7430-319e-437b-9edd-d3ac1c46c4ed"
      },
      "execution_count": null,
      "outputs": [
        {
          "output_type": "stream",
          "name": "stdout",
          "text": [
            "Looking in indexes: https://pypi.org/simple, https://us-python.pkg.dev/colab-wheels/public/simple/\n",
            "Requirement already satisfied: sympy in /usr/local/lib/python3.8/dist-packages (1.7.1)\n",
            "Requirement already satisfied: mpmath>=0.19 in /usr/local/lib/python3.8/dist-packages (from sympy) (1.2.1)\n"
          ]
        }
      ]
    },
    {
      "cell_type": "markdown",
      "source": [],
      "metadata": {
        "id": "vME0j1L-sQuj"
      }
    },
    {
      "cell_type": "code",
      "source": [
        "from sympy import *\n",
        "\n",
        "x = Symbol(\"x\")\n",
        "\n",
        "f_x = 0.6*x**3+5.5*x**2+10*x -5\n",
        "\n",
        "def find_y(input_x):\n",
        "  return (0.6*input_x**3+5.5*input_x**2+10*input_x -5)"
      ],
      "metadata": {
        "id": "EyIyfX8eKOAp"
      },
      "execution_count": null,
      "outputs": []
    },
    {
      "cell_type": "markdown",
      "source": [
        "Определить корни"
      ],
      "metadata": {
        "id": "uddCUenoKfLC"
      }
    },
    {
      "cell_type": "code",
      "source": [
        "x_answer = solve(f_x,x)\n",
        "print(\"корни уравнения:\", x_answer)"
      ],
      "metadata": {
        "colab": {
          "base_uri": "https://localhost:8080/"
        },
        "id": "PoxIOQ8JKg3L",
        "outputId": "b0a74c33-8b0a-41af-f1ad-99e0029853d5"
      },
      "execution_count": null,
      "outputs": [
        {
          "output_type": "stream",
          "name": "stdout",
          "text": [
            "корни уравнения: [-6.32174537314726 + 0.e-22*I, -3.25046383307744 - 0.e-22*I, 0.405542539558034 - 0.e-21*I]\n"
          ]
        }
      ]
    },
    {
      "cell_type": "markdown",
      "source": [
        "Построить график"
      ],
      "metadata": {
        "id": "6vY-d1rTK8na"
      }
    },
    {
      "cell_type": "code",
      "source": [
        "from sympy.plotting import plot\n",
        "\n",
        "chart = plot(f_x,(x,-8,3), line_color='red', title='график функции')"
      ],
      "metadata": {
        "colab": {
          "base_uri": "https://localhost:8080/",
          "height": 297
        },
        "id": "SpjFCSGAK9tR",
        "outputId": "36e77382-dd46-4f24-dbec-009d07f536d8"
      },
      "execution_count": null,
      "outputs": [
        {
          "output_type": "display_data",
          "data": {
            "text/plain": [
              "<Figure size 432x288 with 1 Axes>"
            ],
            "image/png": "[encoded data removed]"
          },
          "metadata": {
            "needs_background": "light"
          }
        }
      ]
    },
    {
      "cell_type": "markdown",
      "source": [
        "Вычислить вершину\n"
      ],
      "metadata": {
        "id": "7iUD-M5VL8rI"
      }
    },
    {
      "cell_type": "code",
      "source": [
        "derivative = diff(f_x)\n",
        "plot(derivative)\n",
        "\n",
        "x_derivative_answers = solve(derivative,x)\n",
        "print(x_derivative_answers)\n"
      ],
      "metadata": {
        "colab": {
          "base_uri": "https://localhost:8080/",
          "height": 313
        },
        "id": "vQ-8E06VMRxh",
        "outputId": "347a0067-36f7-4a21-aec6-170dd260bafc"
      },
      "execution_count": null,
      "outputs": [
        {
          "output_type": "display_data",
          "data": {
            "text/plain": [
              "<Figure size 432x288 with 1 Axes>"
            ],
            "image/png": "[encoded data removed]"
          },
          "metadata": {
            "needs_background": "light"
          }
        },
        {
          "output_type": "stream",
          "name": "stdout",
          "text": [
            "[-5.00000000000000, -1.11111111111111]\n"
          ]
        }
      ]
    },
    {
      "cell_type": "code",
      "source": [
        "for x_item in x_derivative_answers:\n",
        "  print(f'x= {x_item} , y = {find_y(x_item)}')"
      ],
      "metadata": {
        "colab": {
          "base_uri": "https://localhost:8080/"
        },
        "id": "PZr8_FsT2BhY",
        "outputId": "452e6182-19ff-46a7-9c86-d97e2639f1dc"
      },
      "execution_count": null,
      "outputs": [
        {
          "output_type": "stream",
          "name": "stdout",
          "text": [
            "x= -5.00000000000000 , y = 7.50000000000000\n",
            "x= -1.11111111111111 , y = -10.1440329218107\n"
          ]
        }
      ]
    },
    {
      "cell_type": "markdown",
      "source": [
        "Определить промежутки, на котором f > 0\n",
        "\n",
        "Определить промежутки, на котором f < 0"
      ],
      "metadata": {
        "id": "sphSdXo22yc2"
      }
    },
    {
      "cell_type": "code",
      "source": [
        "solve(f_x > 0,x)"
      ],
      "metadata": {
        "colab": {
          "base_uri": "https://localhost:8080/",
          "height": 38
        },
        "id": "vSj40lBv21jX",
        "outputId": "7923b14b-6cf7-48a5-9d19-504b72bcad2c"
      },
      "execution_count": null,
      "outputs": [
        {
          "output_type": "execute_result",
          "data": {
            "text/plain": [
              "((-6.32174537314726 < x) & (x < -3.25046383307744)) | ((0.405542539558034 < x) & (x < oo))"
            ],
            "text/latex": "$\\displaystyle \\left(-6.32174537314726 < x \\wedge x < -3.25046383307744\\right) \\vee \\left(0.405542539558034 < x \\wedge x < \\infty\\right)$"
          },
          "metadata": {},
          "execution_count": 15
        }
      ]
    },
    {
      "cell_type": "code",
      "source": [
        "solve(f_x < 0,x)"
      ],
      "metadata": {
        "colab": {
          "base_uri": "https://localhost:8080/",
          "height": 38
        },
        "id": "VfteNzt929HA",
        "outputId": "6f86e5f7-eed7-40ff-c49c-e05002940d9f"
      },
      "execution_count": null,
      "outputs": [
        {
          "output_type": "execute_result",
          "data": {
            "text/plain": [
              "((-oo < x) & (x < -6.32174537314726)) | ((-3.25046383307744 < x) & (x < 0.405542539558034))"
            ],
            "text/latex": "$\\displaystyle \\left(-\\infty < x \\wedge x < -6.32174537314726\\right) \\vee \\left(-3.25046383307744 < x \\wedge x < 0.405542539558034\\right)$"
          },
          "metadata": {},
          "execution_count": 16
        }
      ]
    },
    {
      "cell_type": "markdown",
      "source": [
        "Найти интервалы, на которых функция возрастает\n",
        "\n",
        "Найти интервалы, на которых функция убывает\n"
      ],
      "metadata": {
        "id": "tX-NHPEX3Lyn"
      }
    },
    {
      "cell_type": "code",
      "source": [
        "maxima, minima = [], []\n",
        "\n",
        "for point in x_derivative_answers:\n",
        "  if f_x.diff(x, 2).subs(x, point) > 0:\n",
        "    maxima.append(point)\n",
        "  elif f_x.diff(x, 2).subs(x, point) < 0:\n",
        "    minima.append(point)\n",
        "\n",
        "interval = (min(minima), max(maxima))\n",
        "print('Интервал убывания:', interval)\n",
        "print('на остальном промежутке она возрастает')\n"
      ],
      "metadata": {
        "colab": {
          "base_uri": "https://localhost:8080/"
        },
        "id": "DjOjp1WP39je",
        "outputId": "7cb65c47-06c5-4ee1-f333-0dedf31a3770"
      },
      "execution_count": null,
      "outputs": [
        {
          "output_type": "stream",
          "name": "stdout",
          "text": [
            "Интервал убывания: (-5.00000000000000, -1.11111111111111)\n",
            "на остальном промежутке она возрастает\n"
          ]
        }
      ]
    }
  ]
}